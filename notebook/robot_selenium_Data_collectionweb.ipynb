{
 "cells": [
  {
   "cell_type": "markdown",
   "id": "a4b41335-4dac-477c-8ab8-cdd3cea28e75",
   "metadata": {},
   "source": [
    "## Web Scraping com Python: Automatizando uma recolha de dados na web com Selenium\n",
    "   \n",
    "* Projeto realizado durante minha aula de visão computacional (Deep learning) avançado na Université Cégep de Matane. Neste projeto, o objetivo é extair informações de forma automatizada sobre as condições das marés em Tadoussac (Canada) para os próximos sete dias\n",
    "\n",
    "##### Copyright (c) 2023, Carlos MANDELE\n",
    "\n",
    "O conteúdo deste projeto é licenciado <a href=\"https://creativecommons.org/licenses/by/4.0/deed.fr\" target='_blank'>Creative Commons Attribution 4.0 (CC BY 4.0)</a>,<br/>e os códigos estão em <a href=\"https://www.apache.org/licenses/LICENSE-2.0\" target='_blank'>licence Apache 2.0</a>.\n",
    " "
   ]
  },
  {
   "cell_type": "markdown",
   "id": "informed-links",
   "metadata": {},
   "source": [
    "* ### As marés dos próximos sete dias: Coletando informaçoes sobre as condições das marés em Tadoussac para os próximos sete dias a partir de 14 de setembro de 2023."
   ]
  },
  {
   "cell_type": "markdown",
   "id": "military-bundle",
   "metadata": {},
   "source": [
    "### Importando bibliotecas Python"
   ]
  },
  {
   "cell_type": "code",
   "execution_count": null,
   "id": "sharing-statement",
   "metadata": {},
   "outputs": [],
   "source": [
    "# Importação das libs\n",
    "#-*- coding: utf-8 -*-\n",
    "\n",
    "from bs4 import BeautifulSoup #Biblioteca de manipulação HTML\n",
    "\n",
    "#edgeDriver ou outro para controlar o navegador com Selenium, \n",
    "#dependendo do navegador usado\n",
    "from selenium import webdriver \n",
    "\n",
    "import re\n",
    "import pandas as pd\n",
    "\n",
    "print(\"Bibliotecas Python importadas\")"
   ]
  },
  {
   "cell_type": "markdown",
   "id": "secondary-chance",
   "metadata": {},
   "source": [
    "## Análisando os pontos de entrada de formulário com a função de inspeção do browser:\n",
    "<ul>\n",
    "    <ul>\n",
    "        <li>Abrir a página do <a href=\"https://www.marees.gc.ca/fra/station?sid=2985\" target='_blank'>formulário</a> no Web site Pêches et Océans Canada;</li>\n",
    "        <li>Reconstruir a sequência de interações com o formulário (cliques, menus e entrada do teclado);</li>\n",
    "        <li>Obter identificadores de botões, menus, campos de entrada;</li>\n",
    "    </ul>\n",
    "</ul>   "
   ]
  },
  {
   "cell_type": "markdown",
   "id": "partial-cyprus",
   "metadata": {},
   "source": [
    "## Programando um script de interação Selenium com o formulário das marés\n",
    "\n"
   ]
  },
  {
   "cell_type": "code",
   "execution_count": null,
   "id": "occupational-ceiling",
   "metadata": {},
   "outputs": [],
   "source": [
    "from selenium.webdriver.common.by import By\n",
    "from selenium.webdriver.common.keys import Keys\n",
    "\n",
    "from warnings import filterwarnings\n",
    "filterwarnings(\"ignore\")\n",
    "\n",
    "\n",
    "#Instanciar um driver para o navegador Chrome/msEdge - método obsoleto\n",
    "#robot_edge = webdriver.Edge(\"msedgedriver.exe\")\n",
    "\n",
    "#Nova maneira de instalar o driver para o navegador Edge\n",
    "from selenium import webdriver\n",
    "from selenium.webdriver.edge.service import Service as EdgeService\n",
    "from webdriver_manager.microsoft import EdgeChromiumDriverManager\n",
    "robot_edge = webdriver.Edge(service=EdgeService(EdgeChromiumDriverManager().install()))\n",
    "\n",
    "\n",
    "#Abrindo a página Web onde o formulário das marés está localizado\n",
    "robot_edge.get(\"https://www.marees.gc.ca/fr/stations/\")\n",
    "\n",
    "localidade = \"Tadoussac\"\n",
    "\n",
    "#Solicitar o formulário para a localidade de Tadoussac com a ferramenta de pesquisa / filtragem\n",
    "seizure_localidade = robot_edge.find_element(By.XPATH, \"//div/label/input\")\n",
    "seizure_localidade.clear()\n",
    "seizure_localidade.send_keys(localidade)\n",
    "\n",
    "#Solicitar um tempo de resposta\n",
    "import time \n",
    "time.sleep(2)\n",
    "\n",
    "#Clique no hiperlink para a página web de marés de Tadoussac\n",
    "hiperlink_localidade = robot_edge.find_element(By.XPATH, \"//td/a\")\n",
    "hiperlink_localidade.click()\n",
    "\n",
    "#Solicitar um tempo de resposta\n",
    "time.sleep(2)\n",
    "\n",
    "#Definindo o componente calendário, para 14 de setembro de 2023\n",
    "seizure_date = robot_edge.find_element(By.ID, \"water-levels-date\")\n",
    "seizure_date.clear()\n",
    "robot_edge.execute_script(\"arguments[0].value = '2023-09-14';\", seizure_date)\n",
    "#Enviar o pedido para obter o cronograma de maré em Tadoussac para\n",
    "# os sete dias de procahins a partir de 14 de setembro de 2023\n",
    "bouton_send = robot_edge.find_element(By.ID, \"water-levels-date-submit\")\n",
    "bouton_send.click()\n",
    "\n",
    "#Solicitar um tempo de resposta\n",
    "time.sleep(2)\n",
    "\n",
    "#Obtendo os resultados da página Web\n",
    "page_answer = robot_edge.page_source\n",
    "\n",
    "print(\"Selenium script deve abrir um navegador e exibir uma mensagem\")\n",
    "print(\"do género: « Browser is being controlled by automated test software. »\")\n",
    "print(\"em seguida, o script Selenium simula interações com o formulário.\\n\")\n",
    "print(\"Script Selenium executado, formulário enviado, página de resultados recuperada...\")"
   ]
  },
  {
   "cell_type": "markdown",
   "id": "understood-thomas",
   "metadata": {},
   "source": [
    "## Análise dos resultados retornado da página web  com `BeautifulSoup`\n",
    "\n",
    "\n",
    "* Exibição formatada da página web de resultados em HTML"
   ]
  },
  {
   "cell_type": "code",
   "execution_count": null,
   "id": "color-origin",
   "metadata": {},
   "outputs": [],
   "source": [
    "#Análise dos resultados retornado da página web com BeautifulSoup\n",
    "page_resultats = BeautifulSoup(page_answer,\"html.parser\") \n",
    "\n",
    "#Inspecionando a página Web devolvida\n",
    "print(page_resultats.prettify())"
   ]
  },
  {
   "cell_type": "markdown",
   "id": "commercial-harassment",
   "metadata": {},
   "source": [
    "##  Extraindo seções relevantes da página de resultados com `Beautiful Soup`\n",
    "\n",
    "\n",
    "\n",
    "* Visualização das secções relevantes que contêm dados das marés durante sete dias"
   ]
  },
  {
   "cell_type": "code",
   "execution_count": null,
   "id": "sacred-genre",
   "metadata": {
    "scrolled": true
   },
   "outputs": [],
   "source": [
    "#Recuperando parâmetros da consulta de pesquisa de informações\n",
    "raw_parameters = page_resultats.find_all(\"table\", {\"class\":\"day-tables clearfix table-bordered responsive-enabled table table-hover table-striped\"})\n",
    "print(\"Seções relevantes em HTML:\\n\")\n",
    "print(\"Número de dias:\",len(raw_parameters),\"\\n\")\n",
    "\n",
    "#raw_parameters = raw_parameters.find(\"div\", {\"class\":\"wb-eqht wb-init wb-eqht-inited\"})\n",
    "print(raw_parameters)"
   ]
  },
  {
   "cell_type": "markdown",
   "id": "d523fae5",
   "metadata": {},
   "source": [
    "### Exibindo texto sem formatação, sem tags HTML"
   ]
  },
  {
   "cell_type": "code",
   "execution_count": null,
   "id": "5df87a74",
   "metadata": {},
   "outputs": [],
   "source": [
    "print(\"Seções de texto sem formatação relevantes sem tags HTML:\\n\")\n",
    "for parametro_brut in raw_parameters:\n",
    "    text_view = parametro_brut.getText().strip()\n",
    "    print(text_view)"
   ]
  },
  {
   "cell_type": "markdown",
   "id": "loved-subcommittee",
   "metadata": {},
   "source": [
    "## Renderizando tabelas de marés HTML"
   ]
  },
  {
   "cell_type": "markdown",
   "id": "fc6ff87b-4689-40da-8488-2cec7d2a9927",
   "metadata": {},
   "source": [
    "* ### Expressões Regulares  `(regex)`"
   ]
  },
  {
   "cell_type": "code",
   "execution_count": null,
   "id": "12d3e6ed-eebd-4000-aac0-c9e29190a2e3",
   "metadata": {},
   "outputs": [],
   "source": [
    "import re\n",
    "from IPython.display import display, HTML"
   ]
  },
  {
   "cell_type": "code",
   "execution_count": null,
   "id": "bde608a4",
   "metadata": {},
   "outputs": [],
   "source": [
    "# Extraindo atributos usando uma expressão regular\n",
    "FORME_1 = r\"(?:.*\\n)<caption>(\\d\\d\\d\\d-\\d\\d-\\d\\d\\s*\\(\\w*\\))\\<\\/caption>\"\n",
    "\n",
    "for parametro_brut in raw_parameters:\n",
    "    titulo = re.match(re.compile(FORME_1),str(parametro_brut)).group(1)\n",
    "    substitution = re.sub(FORME_1, '<table>', str(parametro_brut))\n",
    "    display(HTML(titulo+\"\\n\"+substitution))"
   ]
  },
  {
   "cell_type": "markdown",
   "id": "5390786f",
   "metadata": {},
   "source": [
    "## Extração de dados de marés com expressões regulares"
   ]
  },
  {
   "cell_type": "code",
   "execution_count": null,
   "id": "93734285",
   "metadata": {},
   "outputs": [],
   "source": [
    "def extrair_numero_station(texto_inserido):\n",
    "    FORME_1 = r'\\s+\\((\\d*)\\)\\s+|\\s+Pêches\\s+et\\s+Océans Canada<\\/title>'\n",
    "    return re.search(FORME_1, str(texto_inserido)).group(1)\n",
    "\n",
    "numero_station = extrair_numero_station(page_resultats)\n",
    "print(\"Numéro de estação:\",numero_station)"
   ]
  },
  {
   "cell_type": "code",
   "execution_count": null,
   "id": "fd7b6d3a",
   "metadata": {},
   "outputs": [],
   "source": [
    "def extrair_fuso_horario(texto_inserido):\n",
    "    FORME_2 = r'<th>Heure\\s*(\\w*)<\\/th>'\n",
    "    return re.search(FORME_2, str(texto_inserido)).group(1)\n",
    "\n",
    "fuso_horario = extrair_fuso_horario(raw_parameters[0])\n",
    "print(\"Fuso horario:\",fuso_horario)"
   ]
  },
  {
   "cell_type": "code",
   "execution_count": null,
   "id": "e1f113a0",
   "metadata": {},
   "outputs": [],
   "source": [
    "from datetime import datetime\n",
    "\n",
    "def extrair_data(texto_inserido):\n",
    "    FORME_3 = r\"(\\d\\d\\d\\d)-(\\d\\d)-(\\d\\d)\"\n",
    "    extraction_resultados = re.search(re.compile(FORME_3),str(texto_inserido))\n",
    "    # Reescrevendo a data em português\n",
    "    data_str = extraction_resultados.group(3) + \"-\" + extraction_resultados.group(2) + \"-\" + extraction_resultados.group(1) \n",
    "    return data_str\n",
    "\n",
    "extrair_data(raw_parameters[0])"
   ]
  },
  {
   "cell_type": "code",
   "execution_count": null,
   "id": "e3c34245",
   "metadata": {},
   "outputs": [],
   "source": [
    "def extrair_dados_mares(texto_inserido):\n",
    "    FORME_4 = r\"<td>(\\d*:\\d*)<\\/td>\\n<td>(\\d*.\\d*)<\\/td>\"\n",
    "    extraction_resultados = re.findall(re.compile(FORME_4),str(texto_inserido))\n",
    "    return extraction_resultados\n",
    "\n",
    "extrair_dados_mares(raw_parameters[0])"
   ]
  },
  {
   "cell_type": "markdown",
   "id": "industrial-familiar",
   "metadata": {},
   "source": [
    "## Fazendo backup de dados no arquivo `dados_marés_pag_web.csv`"
   ]
  },
  {
   "cell_type": "code",
   "execution_count": null,
   "id": "lonely-rochester",
   "metadata": {},
   "outputs": [],
   "source": [
    "# Salvando os dados em um arquivo.csv\n",
    "output_file_path = './'\n",
    "filename_outpute = \"dados_mares_pag_web.csv\"\n",
    "with open(output_file_path+filename_outpute,'w') as arquivo_saida:\n",
    "    #Escrevendo o cabeçalho do arquivo listando os diferentes atributos\n",
    "    arquivo_saida.write('localite\\tstation\\tfuseau_horaire\\tdate\\theure\\thauteur_m\\n')\n",
    "    for parametro_brut in raw_parameters:\n",
    "        titulo = re.match(re.compile(FORME_1),str(parametro_brut)).group(1)\n",
    "        data = extrair_data(parametro_brut)\n",
    "        list_dados_mares = extrair_dados_mares(parametro_brut)\n",
    "        for dados_mares in list_dados_mares:\n",
    "            #Savando os dados de marés no arquivo\n",
    "            arquivo_saida.write(localidade+'\\t'+numero_station+'\\t'+fuso_horario+'\\t'+data+'\\t'\n",
    "                                 +dados_mares[0]+'\\t'+dados_mares[1]+'\\n')\n",
    "        \n",
    "print(\"Dados de maré salvos no arquivo \"+ filename_outpute)"
   ]
  },
  {
   "cell_type": "markdown",
   "id": "younger-congo",
   "metadata": {},
   "source": [
    "## Testando a leitura do arquivo de dados"
   ]
  },
  {
   "cell_type": "code",
   "execution_count": null,
   "id": "essential-palace",
   "metadata": {},
   "outputs": [],
   "source": [
    "import pandas as pd\n",
    "\n",
    "filename_outpute = \"dados_mares_pag_web.csv\"\n",
    "\n",
    "dados_mares_df = pd.read_csv(output_file_path+filename_outpute,delimiter='\\t')\n",
    "dados_mares_df"
   ]
  },
  {
   "cell_type": "code",
   "execution_count": null,
   "id": "7bf10526",
   "metadata": {},
   "outputs": [],
   "source": [
    "print(\"Projeto finalizado\")"
   ]
  }
 ],
 "metadata": {
  "kernelspec": {
   "display_name": "mer",
   "language": "python",
   "name": "mer"
  },
  "language_info": {
   "codemirror_mode": {
    "name": "ipython",
    "version": 3
   },
   "file_extension": ".py",
   "mimetype": "text/x-python",
   "name": "python",
   "nbconvert_exporter": "python",
   "pygments_lexer": "ipython3",
   "version": "3.9.13"
  }
 },
 "nbformat": 4,
 "nbformat_minor": 5
}
